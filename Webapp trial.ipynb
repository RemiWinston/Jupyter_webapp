{
 "cells": [
  {
   "cell_type": "code",
   "execution_count": 1,
   "id": "f834da24",
   "metadata": {},
   "outputs": [],
   "source": [
    "import warnings\n",
    "warnings.filterwarnings('ignore')\n",
    "import ipywidgets as widgets\n",
    "from IPython.display import display, clear_output"
   ]
  },
  {
   "cell_type": "code",
   "execution_count": 2,
   "id": "31972e8d",
   "metadata": {},
   "outputs": [
    {
     "name": "stderr",
     "output_type": "stream",
     "text": [
      "Enabling notebook extension jupyter-js-widgets/extension...\n",
      "      - Validating: ok\n",
      "Enabling: voila\n",
      "- Writing config: C:\\Users\\remiw\\AppData\\Local\\Programs\\Python\\Python310\\etc\\jupyter\n",
      "    - Validating...\n",
      "      voila 0.4.0 ok\n"
     ]
    }
   ],
   "source": [
    "!jupyter nbextension enable --py widgetsnbextension --sys-prefix\n",
    "!jupyter serverextension enable voila --sys-prefix"
   ]
  },
  {
   "cell_type": "code",
   "execution_count": 3,
   "id": "eee385ec",
   "metadata": {},
   "outputs": [],
   "source": [
    "#Image widget\n",
    "file = open(\"download.png\",\"rb\")\n",
    "image = file.read()\n",
    "image_headline = widgets.Image(value=image,format='png',width='300')\n",
    "label_headline = widgets.Label(value='PIONEER WINCONS ENERGY SYSTEMS PVT.LTD',style={'description_width':'initial'})\n",
    "vbox_headline = widgets.VBox([image_headline,label_headline])"
   ]
  },
  {
   "cell_type": "code",
   "execution_count": 4,
   "id": "3c75076e",
   "metadata": {},
   "outputs": [],
   "source": [
    "#Turbine type widget\n",
    "turbtype = widgets.ToggleButtons(options =['p49','p57'])"
   ]
  },
  {
   "cell_type": "code",
   "execution_count": 5,
   "id": "a9e1e190",
   "metadata": {},
   "outputs": [],
   "source": [
    "#Turbine name widget\n",
    "turbname = widgets.ToggleButtons(options =['ABC','EFG','HIJ','KLM'])"
   ]
  },
  {
   "cell_type": "code",
   "execution_count": 6,
   "id": "d77d1405",
   "metadata": {},
   "outputs": [],
   "source": [
    "#Date drop down\n",
    "date = widgets.DatePicker(description = 'Select your desired date :')"
   ]
  },
  {
   "cell_type": "code",
   "execution_count": 7,
   "id": "13e21a22",
   "metadata": {},
   "outputs": [],
   "source": [
    "#Time drop down\n",
    "time = widgets.TimePicker(\n",
    "    description='Select your desired Time',\n",
    "    disabled=False\n",
    ")"
   ]
  },
  {
   "cell_type": "code",
   "execution_count": 8,
   "id": "4c10f354",
   "metadata": {},
   "outputs": [],
   "source": [
    "#Loading widget\n",
    "loading = widgets.IntProgress(\n",
    "    value=7,\n",
    "    min=0,\n",
    "    max=10,\n",
    "    description='Loading:',\n",
    "    bar_style='', # 'success', 'info', 'warning', 'danger' or ''\n",
    "    style={'bar_color': 'maroon'},\n",
    "    orientation='horizontal'\n",
    ")"
   ]
  },
  {
   "cell_type": "code",
   "execution_count": 9,
   "id": "8dae3838",
   "metadata": {},
   "outputs": [],
   "source": [
    "#Button widget \n",
    "button = widgets.Button(\n",
    "    description='Click for the results',\n",
    "    disabled=False,\n",
    "    button_style='', # 'success', 'info', 'warning', 'danger' or ''\n",
    "    tooltip='Click for the results',\n",
    "    icon='check' # (FontAwesome names without the `fa-` prefix)\n",
    ")\n",
    "output = widgets.Output()\n",
    "\n",
    "def on_button_clicked(event):\n",
    "    with output:\n",
    "        clear_output()\n",
    "        print(\"Here is the required Turbine's data : \")\n",
    "        print(f\"The selected turbine type is {turbtype.value}\")\n",
    "        print(f\"The turbine name is {turbname.value}\")\n",
    "        print(f\"The turbine data from the date {date.value} and time {time.value}\")\n",
    "\n",
    "button.on_click(on_button_clicked)\n",
    "vbox_results=widgets.VBox([button,output])"
   ]
  },
  {
   "cell_type": "code",
   "execution_count": 10,
   "id": "223b2ed2",
   "metadata": {},
   "outputs": [],
   "source": [
    "text_0=widgets.HTML(value=\"<h1>Here is the required Turbine's data :<h1>\")\n",
    "text_1=widgets.HTML(value=\"<h2>The selected turbine type is<h2>\")\n",
    "text_2=widgets.HTML(value=\"<h3>The turbine name is<h3>\")\n",
    "text_3=widgets.HTML(value=\"<h4>The turbine data from the date<h4>\")\n",
    "text_4=widgets.HTML(value=\"<h4>and time<h4>\")\n",
    "\n",
    "vbox_text=widgets.VBox([text_0,text_1,turbtype,text_2,turbname,text_3,date,text_4,time,vbox_results])"
   ]
  },
  {
   "cell_type": "code",
   "execution_count": 11,
   "id": "2a3ff20d",
   "metadata": {},
   "outputs": [
    {
     "data": {
      "application/vnd.jupyter.widget-view+json": {
       "model_id": "23ed21ba122047339d2ceea802b88b1a",
       "version_major": 2,
       "version_minor": 0
      },
      "text/plain": [
       "HBox(children=(VBox(children=(Image(value=b'\\x89PNG\\r\\n\\x1a\\n\\x00\\x00\\x00\\rIHDR\\x00\\x00\\x04\\xce\\x00\\x00\\x04\\x7…"
      ]
     },
     "metadata": {},
     "output_type": "display_data"
    }
   ],
   "source": [
    "page = widgets.HBox([vbox_headline,vbox_text])\n",
    "display(page)"
   ]
  },
  {
   "cell_type": "code",
   "execution_count": null,
   "id": "ac2867fc",
   "metadata": {},
   "outputs": [],
   "source": []
  },
  {
   "cell_type": "code",
   "execution_count": null,
   "id": "3c79e9ec",
   "metadata": {},
   "outputs": [],
   "source": []
  },
  {
   "cell_type": "code",
   "execution_count": null,
   "id": "0fcdb37c",
   "metadata": {},
   "outputs": [],
   "source": []
  },
  {
   "cell_type": "code",
   "execution_count": null,
   "id": "829ddbc2",
   "metadata": {},
   "outputs": [],
   "source": []
  },
  {
   "cell_type": "code",
   "execution_count": null,
   "id": "ebc799f9",
   "metadata": {},
   "outputs": [],
   "source": []
  },
  {
   "cell_type": "code",
   "execution_count": null,
   "id": "3fa2db78",
   "metadata": {},
   "outputs": [],
   "source": []
  },
  {
   "cell_type": "code",
   "execution_count": null,
   "id": "f0e578a2",
   "metadata": {},
   "outputs": [],
   "source": []
  },
  {
   "cell_type": "code",
   "execution_count": null,
   "id": "6926981c",
   "metadata": {},
   "outputs": [],
   "source": []
  },
  {
   "cell_type": "code",
   "execution_count": null,
   "id": "49e5f8a8",
   "metadata": {},
   "outputs": [],
   "source": []
  },
  {
   "cell_type": "code",
   "execution_count": null,
   "id": "6c58b537",
   "metadata": {},
   "outputs": [],
   "source": []
  },
  {
   "cell_type": "code",
   "execution_count": null,
   "id": "a9d61923",
   "metadata": {},
   "outputs": [],
   "source": []
  },
  {
   "cell_type": "code",
   "execution_count": null,
   "id": "9d3f4d10",
   "metadata": {},
   "outputs": [],
   "source": []
  }
 ],
 "metadata": {
  "kernelspec": {
   "display_name": "Python 3 (ipykernel)",
   "language": "python",
   "name": "python3"
  },
  "language_info": {
   "codemirror_mode": {
    "name": "ipython",
    "version": 3
   },
   "file_extension": ".py",
   "mimetype": "text/x-python",
   "name": "python",
   "nbconvert_exporter": "python",
   "pygments_lexer": "ipython3",
   "version": "3.10.11"
  }
 },
 "nbformat": 4,
 "nbformat_minor": 5
}
